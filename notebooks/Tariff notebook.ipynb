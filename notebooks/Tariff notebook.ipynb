{
 "cells": [
  {
   "cell_type": "code",
   "execution_count": 1,
   "id": "9e99c134",
   "metadata": {},
   "outputs": [],
   "source": [
    "import pandas as pd\n",
    "import os\n",
    "import matplotlib.pyplot as plt"
   ]
  },
  {
   "cell_type": "code",
   "execution_count": 2,
   "id": "b3ae6943",
   "metadata": {},
   "outputs": [
    {
     "name": "stdout",
     "output_type": "stream",
     "text": [
      "Found 7 CSV files.\n"
     ]
    }
   ],
   "source": [
    "csv_paths = \"../data/raw/csvfiles\"\n",
    "csv_files = [f\"{csv_paths}/{f}\" for f in os.listdir(csv_paths) if f.endswith('.csv')]\n",
    "print(f\"Found {len(csv_files)} CSV files.\")"
   ]
  },
  {
   "cell_type": "code",
   "execution_count": 3,
   "id": "98246f4f",
   "metadata": {},
   "outputs": [
    {
     "data": {
      "text/plain": [
       "7"
      ]
     },
     "execution_count": 3,
     "metadata": {},
     "output_type": "execute_result"
    }
   ],
   "source": [
    "dfs = [pd.read_csv(fp) for fp in csv_files]\n",
    "len(dfs)"
   ]
  },
  {
   "cell_type": "code",
   "execution_count": 4,
   "id": "3c5935a7",
   "metadata": {},
   "outputs": [],
   "source": [
    "for i, df in enumerate(dfs):\n",
    "    dfs[i].columns = [col.strip() for col in dfs[i].columns]  # clean spaces"
   ]
  },
  {
   "cell_type": "code",
   "execution_count": 5,
   "id": "675198e9",
   "metadata": {},
   "outputs": [],
   "source": [
    "for i, df in enumerate(dfs):\n",
    "    df[\"Source Section\"] = f\"Section {i+1}\""
   ]
  },
  {
   "cell_type": "code",
   "execution_count": 6,
   "id": "64a0ca2b",
   "metadata": {},
   "outputs": [],
   "source": [
    "full_df = pd.concat(dfs, ignore_index=True)"
   ]
  },
  {
   "cell_type": "code",
   "execution_count": 7,
   "id": "0745c221",
   "metadata": {},
   "outputs": [],
   "source": [
    "full_df = full_df.drop_duplicates(subset=[\"HTS Number\", \"Description\"], keep=\"first\")"
   ]
  },
  {
   "cell_type": "code",
   "execution_count": 8,
   "id": "857a8ba0",
   "metadata": {},
   "outputs": [],
   "source": [
    "full_df.to_csv(f\"{csv_paths}/combined_hts_data.csv\", index=False)"
   ]
  },
  {
   "cell_type": "code",
   "execution_count": 9,
   "id": "1626b382",
   "metadata": {},
   "outputs": [
    {
     "name": "stdout",
     "output_type": "stream",
     "text": [
      "Final DataFrame shape: (1718, 20)\n"
     ]
    }
   ],
   "source": [
    "final_df = pd.read_csv(f\"{csv_paths}/combined_hts_data.csv\")\n",
    "print(f\"Final DataFrame shape: {final_df.shape}\")"
   ]
  },
  {
   "cell_type": "code",
   "execution_count": 10,
   "id": "7fa54aab",
   "metadata": {},
   "outputs": [
    {
     "data": {
      "text/plain": [
       "HTS Number                            168\n",
       "Indent                                168\n",
       "Description                             0\n",
       "Unit of Quantity                      602\n",
       "General Rate of Duty                 1011\n",
       "Special Rate of Duty                 1301\n",
       "Column 2 Rate of Duty                1011\n",
       "Quota Quantity                       1718\n",
       "Additional Duties                    1718\n",
       "Source Section                          0\n",
       "CIF Value                            1550\n",
       "Product Cost                         1550\n",
       "Freight                              1550\n",
       "Insurance                            1550\n",
       "General Rate of Duty Parsed (%)      1550\n",
       "General Rate of Duty Duty Amount     1550\n",
       "Special Rate of Duty Parsed (%)      1550\n",
       "Special Rate of Duty Duty Amount     1550\n",
       "Column 2 Rate of Duty Parsed (%)     1550\n",
       "Column 2 Rate of Duty Duty Amount    1550\n",
       "dtype: int64"
      ]
     },
     "execution_count": 10,
     "metadata": {},
     "output_type": "execute_result"
    }
   ],
   "source": [
    "final_df.isnull().sum()"
   ]
  },
  {
   "cell_type": "code",
   "execution_count": 11,
   "id": "27ca7bb1",
   "metadata": {},
   "outputs": [
    {
     "data": {
      "text/plain": [
       "np.int64(0)"
      ]
     },
     "execution_count": 11,
     "metadata": {},
     "output_type": "execute_result"
    }
   ],
   "source": [
    "final_df.duplicated().sum()"
   ]
  },
  {
   "cell_type": "code",
   "execution_count": 12,
   "id": "1ab0ba79",
   "metadata": {},
   "outputs": [
    {
     "name": "stdout",
     "output_type": "stream",
     "text": [
      "<class 'pandas.core.frame.DataFrame'>\n",
      "RangeIndex: 1718 entries, 0 to 1717\n",
      "Data columns (total 20 columns):\n",
      " #   Column                             Non-Null Count  Dtype  \n",
      "---  ------                             --------------  -----  \n",
      " 0   HTS Number                         1550 non-null   object \n",
      " 1   Indent                             1550 non-null   float64\n",
      " 2   Description                        1718 non-null   object \n",
      " 3   Unit of Quantity                   1116 non-null   object \n",
      " 4   General Rate of Duty               707 non-null    object \n",
      " 5   Special Rate of Duty               417 non-null    object \n",
      " 6   Column 2 Rate of Duty              707 non-null    object \n",
      " 7   Quota Quantity                     0 non-null      float64\n",
      " 8   Additional Duties                  0 non-null      float64\n",
      " 9   Source Section                     1718 non-null   object \n",
      " 10  CIF Value                          168 non-null    float64\n",
      " 11  Product Cost                       168 non-null    float64\n",
      " 12  Freight                            168 non-null    float64\n",
      " 13  Insurance                          168 non-null    float64\n",
      " 14  General Rate of Duty Parsed (%)    168 non-null    float64\n",
      " 15  General Rate of Duty Duty Amount   168 non-null    float64\n",
      " 16  Special Rate of Duty Parsed (%)    168 non-null    float64\n",
      " 17  Special Rate of Duty Duty Amount   168 non-null    float64\n",
      " 18  Column 2 Rate of Duty Parsed (%)   168 non-null    float64\n",
      " 19  Column 2 Rate of Duty Duty Amount  168 non-null    float64\n",
      "dtypes: float64(13), object(7)\n",
      "memory usage: 268.6+ KB\n"
     ]
    }
   ],
   "source": [
    "final_df.info()"
   ]
  },
  {
   "cell_type": "code",
   "execution_count": 13,
   "id": "6ada7bc3",
   "metadata": {},
   "outputs": [
    {
     "name": "stderr",
     "output_type": "stream",
     "text": [
      "C:\\Users\\12345\\AppData\\Local\\Temp\\ipykernel_15300\\1636835538.py:2: FutureWarning: Series.fillna with 'method' is deprecated and will raise in a future version. Use obj.ffill() or obj.bfill() instead.\n",
      "  final_df[\"HTS Number\"] = final_df[\"HTS Number\"].fillna(method=\"ffill\")\n"
     ]
    }
   ],
   "source": [
    "#1. Forward-fill Missing HTS Codes\n",
    "final_df[\"HTS Number\"] = final_df[\"HTS Number\"].fillna(method=\"ffill\")"
   ]
  },
  {
   "cell_type": "code",
   "execution_count": 14,
   "id": "323048a9",
   "metadata": {},
   "outputs": [
    {
     "data": {
      "image/png": "[encoded data removed]",
      "text/plain": [
       "<Figure size 1600x600 with 1 Axes>"
      ]
     },
     "metadata": {},
     "output_type": "display_data"
    }
   ],
   "source": [
    "# Plot the distribution of HTS Numbers\n",
    "hts_counts = final_df['HTS Number'].value_counts()\n",
    "plt.figure(figsize=(16, 6))\n",
    "plt.bar(hts_counts.index.astype(str), hts_counts.values)\n",
    "plt.xlabel('HTS Number')\n",
    "plt.ylabel('Count')\n",
    "plt.title('Distribution of HTS Numbers')\n",
    "plt.xticks(rotation=90, fontsize=8)\n",
    "plt.tight_layout()\n",
    "plt.show()"
   ]
  },
  {
   "cell_type": "code",
   "execution_count": 15,
   "id": "5ce37c93",
   "metadata": {},
   "outputs": [],
   "source": [
    "#2. Parse Unit of Quantity\n",
    "import ast\n",
    "\n",
    "def clean_unit_of_quantity(val):\n",
    "    if pd.isna(val):\n",
    "        return \"Not Given\"  # handle NaN values\n",
    "    try:\n",
    "        return ast.literal_eval(val)  # safely convert string to list\n",
    "    except:\n",
    "        return val  # fallback in case it's not a proper list string"
   ]
  },
  {
   "cell_type": "code",
   "execution_count": 16,
   "id": "b91922b1",
   "metadata": {},
   "outputs": [],
   "source": [
    "final_df[\"Unit of Quantity\"] = final_df[\"Unit of Quantity\"].apply(clean_unit_of_quantity)"
   ]
  },
  {
   "cell_type": "code",
   "execution_count": 17,
   "id": "2d4dc359",
   "metadata": {},
   "outputs": [
    {
     "data": {
      "text/html": [
       "<div>\n",
       "<style scoped>\n",
       "    .dataframe tbody tr th:only-of-type {\n",
       "        vertical-align: middle;\n",
       "    }\n",
       "\n",
       "    .dataframe tbody tr th {\n",
       "        vertical-align: top;\n",
       "    }\n",
       "\n",
       "    .dataframe thead th {\n",
       "        text-align: right;\n",
       "    }\n",
       "</style>\n",
       "<table border=\"1\" class=\"dataframe\">\n",
       "  <thead>\n",
       "    <tr style=\"text-align: right;\">\n",
       "      <th></th>\n",
       "      <th>HTS Number</th>\n",
       "      <th>Indent</th>\n",
       "      <th>Description</th>\n",
       "      <th>Unit of Quantity</th>\n",
       "      <th>General Rate of Duty</th>\n",
       "      <th>Special Rate of Duty</th>\n",
       "      <th>Column 2 Rate of Duty</th>\n",
       "      <th>Quota Quantity</th>\n",
       "      <th>Additional Duties</th>\n",
       "      <th>Source Section</th>\n",
       "      <th>CIF Value</th>\n",
       "      <th>Product Cost</th>\n",
       "      <th>Freight</th>\n",
       "      <th>Insurance</th>\n",
       "      <th>General Rate of Duty Parsed (%)</th>\n",
       "      <th>General Rate of Duty Duty Amount</th>\n",
       "      <th>Special Rate of Duty Parsed (%)</th>\n",
       "      <th>Special Rate of Duty Duty Amount</th>\n",
       "      <th>Column 2 Rate of Duty Parsed (%)</th>\n",
       "      <th>Column 2 Rate of Duty Duty Amount</th>\n",
       "    </tr>\n",
       "  </thead>\n",
       "  <tbody>\n",
       "    <tr>\n",
       "      <th>0</th>\n",
       "      <td>0401</td>\n",
       "      <td>0.0</td>\n",
       "      <td>Milk and cream, not concentrated nor containin...</td>\n",
       "      <td>Not Given</td>\n",
       "      <td>NaN</td>\n",
       "      <td>NaN</td>\n",
       "      <td>NaN</td>\n",
       "      <td>NaN</td>\n",
       "      <td>NaN</td>\n",
       "      <td>Section 1</td>\n",
       "      <td>NaN</td>\n",
       "      <td>NaN</td>\n",
       "      <td>NaN</td>\n",
       "      <td>NaN</td>\n",
       "      <td>NaN</td>\n",
       "      <td>NaN</td>\n",
       "      <td>NaN</td>\n",
       "      <td>NaN</td>\n",
       "      <td>NaN</td>\n",
       "      <td>NaN</td>\n",
       "    </tr>\n",
       "    <tr>\n",
       "      <th>1</th>\n",
       "      <td>0401.10.00.00</td>\n",
       "      <td>1.0</td>\n",
       "      <td>Of a fat content, by weight, not exceeding 1 p...</td>\n",
       "      <td>[liters, kg]</td>\n",
       "      <td>0.34¢/liter</td>\n",
       "      <td>Free (A+,AU,BH,CL,CO,D,E,IL,JO,KR,MA,OM,P,PA,P...</td>\n",
       "      <td>0.5¢/liter</td>\n",
       "      <td>NaN</td>\n",
       "      <td>NaN</td>\n",
       "      <td>Section 1</td>\n",
       "      <td>NaN</td>\n",
       "      <td>NaN</td>\n",
       "      <td>NaN</td>\n",
       "      <td>NaN</td>\n",
       "      <td>NaN</td>\n",
       "      <td>NaN</td>\n",
       "      <td>NaN</td>\n",
       "      <td>NaN</td>\n",
       "      <td>NaN</td>\n",
       "      <td>NaN</td>\n",
       "    </tr>\n",
       "    <tr>\n",
       "      <th>2</th>\n",
       "      <td>0401.20</td>\n",
       "      <td>1.0</td>\n",
       "      <td>Of a fat content, by weight, exceeding 1 perce...</td>\n",
       "      <td>Not Given</td>\n",
       "      <td>NaN</td>\n",
       "      <td>NaN</td>\n",
       "      <td>NaN</td>\n",
       "      <td>NaN</td>\n",
       "      <td>NaN</td>\n",
       "      <td>Section 1</td>\n",
       "      <td>NaN</td>\n",
       "      <td>NaN</td>\n",
       "      <td>NaN</td>\n",
       "      <td>NaN</td>\n",
       "      <td>NaN</td>\n",
       "      <td>NaN</td>\n",
       "      <td>NaN</td>\n",
       "      <td>NaN</td>\n",
       "      <td>NaN</td>\n",
       "      <td>NaN</td>\n",
       "    </tr>\n",
       "    <tr>\n",
       "      <th>3</th>\n",
       "      <td>0401.20.20.00</td>\n",
       "      <td>2.0</td>\n",
       "      <td>For not over 11,356,236 liters entered in any ...</td>\n",
       "      <td>[liters, kg cmsc]</td>\n",
       "      <td>0.43¢/liter</td>\n",
       "      <td>Free (A+,AU,BH,CL,CO,D,E,IL,JO,KR,MA,OM,P,PA,P...</td>\n",
       "      <td>1.7¢/liter</td>\n",
       "      <td>NaN</td>\n",
       "      <td>NaN</td>\n",
       "      <td>Section 1</td>\n",
       "      <td>NaN</td>\n",
       "      <td>NaN</td>\n",
       "      <td>NaN</td>\n",
       "      <td>NaN</td>\n",
       "      <td>NaN</td>\n",
       "      <td>NaN</td>\n",
       "      <td>NaN</td>\n",
       "      <td>NaN</td>\n",
       "      <td>NaN</td>\n",
       "      <td>NaN</td>\n",
       "    </tr>\n",
       "    <tr>\n",
       "      <th>4</th>\n",
       "      <td>0401.20.40.00</td>\n",
       "      <td>2.0</td>\n",
       "      <td>Other</td>\n",
       "      <td>[liters, kg cmsc]</td>\n",
       "      <td>1.5¢/liter</td>\n",
       "      <td>Free (AU,BH,CL,CO,IL,JO,KR,MA,OM,P,PA,PE,S,SG)</td>\n",
       "      <td>1.7¢/liter</td>\n",
       "      <td>NaN</td>\n",
       "      <td>NaN</td>\n",
       "      <td>Section 1</td>\n",
       "      <td>NaN</td>\n",
       "      <td>NaN</td>\n",
       "      <td>NaN</td>\n",
       "      <td>NaN</td>\n",
       "      <td>NaN</td>\n",
       "      <td>NaN</td>\n",
       "      <td>NaN</td>\n",
       "      <td>NaN</td>\n",
       "      <td>NaN</td>\n",
       "      <td>NaN</td>\n",
       "    </tr>\n",
       "  </tbody>\n",
       "</table>\n",
       "</div>"
      ],
      "text/plain": [
       "      HTS Number  Indent                                        Description  \\\n",
       "0           0401     0.0  Milk and cream, not concentrated nor containin...   \n",
       "1  0401.10.00.00     1.0  Of a fat content, by weight, not exceeding 1 p...   \n",
       "2        0401.20     1.0  Of a fat content, by weight, exceeding 1 perce...   \n",
       "3  0401.20.20.00     2.0  For not over 11,356,236 liters entered in any ...   \n",
       "4  0401.20.40.00     2.0                                              Other   \n",
       "\n",
       "    Unit of Quantity General Rate of Duty  \\\n",
       "0          Not Given                  NaN   \n",
       "1       [liters, kg]          0.34¢/liter   \n",
       "2          Not Given                  NaN   \n",
       "3  [liters, kg cmsc]          0.43¢/liter   \n",
       "4  [liters, kg cmsc]           1.5¢/liter   \n",
       "\n",
       "                                Special Rate of Duty Column 2 Rate of Duty  \\\n",
       "0                                                NaN                   NaN   \n",
       "1  Free (A+,AU,BH,CL,CO,D,E,IL,JO,KR,MA,OM,P,PA,P...            0.5¢/liter   \n",
       "2                                                NaN                   NaN   \n",
       "3  Free (A+,AU,BH,CL,CO,D,E,IL,JO,KR,MA,OM,P,PA,P...            1.7¢/liter   \n",
       "4     Free (AU,BH,CL,CO,IL,JO,KR,MA,OM,P,PA,PE,S,SG)            1.7¢/liter   \n",
       "\n",
       "   Quota Quantity  Additional Duties Source Section  CIF Value  Product Cost  \\\n",
       "0             NaN                NaN      Section 1        NaN           NaN   \n",
       "1             NaN                NaN      Section 1        NaN           NaN   \n",
       "2             NaN                NaN      Section 1        NaN           NaN   \n",
       "3             NaN                NaN      Section 1        NaN           NaN   \n",
       "4             NaN                NaN      Section 1        NaN           NaN   \n",
       "\n",
       "   Freight  Insurance  General Rate of Duty Parsed (%)  \\\n",
       "0      NaN        NaN                              NaN   \n",
       "1      NaN        NaN                              NaN   \n",
       "2      NaN        NaN                              NaN   \n",
       "3      NaN        NaN                              NaN   \n",
       "4      NaN        NaN                              NaN   \n",
       "\n",
       "   General Rate of Duty Duty Amount  Special Rate of Duty Parsed (%)  \\\n",
       "0                               NaN                              NaN   \n",
       "1                               NaN                              NaN   \n",
       "2                               NaN                              NaN   \n",
       "3                               NaN                              NaN   \n",
       "4                               NaN                              NaN   \n",
       "\n",
       "   Special Rate of Duty Duty Amount  Column 2 Rate of Duty Parsed (%)  \\\n",
       "0                               NaN                               NaN   \n",
       "1                               NaN                               NaN   \n",
       "2                               NaN                               NaN   \n",
       "3                               NaN                               NaN   \n",
       "4                               NaN                               NaN   \n",
       "\n",
       "   Column 2 Rate of Duty Duty Amount  \n",
       "0                                NaN  \n",
       "1                                NaN  \n",
       "2                                NaN  \n",
       "3                                NaN  \n",
       "4                                NaN  "
      ]
     },
     "execution_count": 17,
     "metadata": {},
     "output_type": "execute_result"
    }
   ],
   "source": [
    "final_df.head()"
   ]
  },
  {
   "cell_type": "code",
   "execution_count": 18,
   "id": "75305509",
   "metadata": {},
   "outputs": [],
   "source": [
    "import re\n",
    "\n",
    "def normalize_duty_rate(rate):\n",
    "    if pd.isna(rate):\n",
    "        return {\"rate\": 0.0, \"type\": \"None\"}\n",
    "    \n",
    "    rate = str(rate).strip().lower()\n",
    "    if \"free\" in rate:\n",
    "        return {\"rate\": 0.0, \"type\": \"Free\"}\n",
    "\n",
    "    # Percentage\n",
    "    if \"%\" in rate:\n",
    "        match = re.search(r\"([\\d.]+)\\s*%\", rate)\n",
    "        if match:\n",
    "            return {\"rate\": float(match.group(1)), \"type\": \"%\"}\n",
    "\n",
    "    # Cents per kg\n",
    "    if \"¢/kg\" in rate:\n",
    "        match = re.search(r\"([\\d.]+)\\s*¢/kg\", rate)\n",
    "        if match:\n",
    "            return {\"rate\": float(match.group(1)), \"type\": \"¢/kg\"}\n",
    "\n",
    "    # Dollar per unit\n",
    "    if \"$\" in rate and \"/unit\" in rate:\n",
    "        match = re.search(r\"\\$([\\d.]+)\\s*/unit\", rate)\n",
    "        if match:\n",
    "            return {\"rate\": float(match.group(1)), \"type\": \"$/unit\"}\n",
    "\n",
    "    return {\"rate\": 0.0, \"type\": \"Unknown\"}\n"
   ]
  },
  {
   "cell_type": "code",
   "execution_count": 19,
   "id": "5316aa4a",
   "metadata": {},
   "outputs": [],
   "source": [
    "# Apply to each duty column\n",
    "for col in [\"General Rate of Duty\", \"Column 2 Rate of Duty\"]:\n",
    "    final_df[f\"{col} Parsed\"] = final_df[col].apply(normalize_duty_rate)"
   ]
  },
  {
   "cell_type": "code",
   "execution_count": 20,
   "id": "7645ab16",
   "metadata": {},
   "outputs": [],
   "source": [
    "# final_df.head()"
   ]
  },
  {
   "cell_type": "code",
   "execution_count": 21,
   "id": "4b40684f",
   "metadata": {},
   "outputs": [],
   "source": [
    "def parse_special_rate(rate_str):\n",
    "    if pd.isna(rate_str):\n",
    "        return {\"is_free\": False, \"countries\": []}\n",
    "    \n",
    "    rate_str = str(rate_str)\n",
    "    if \"Free\" in rate_str:\n",
    "        match = re.search(r\"Free\\s*\\((.*?)\\)\", rate_str)\n",
    "        if match:\n",
    "            countries = [c.strip() for c in match.group(1).split(\",\")]\n",
    "            return {\"is_free\": True, \"countries\": countries}\n",
    "        else:\n",
    "            return {\"is_free\": True, \"countries\": []}\n",
    "    \n",
    "    return {\"is_free\": False, \"countries\": []}"
   ]
  },
  {
   "cell_type": "code",
   "execution_count": 22,
   "id": "44c0a50d",
   "metadata": {},
   "outputs": [],
   "source": [
    "final_df[\"Special Rate Parsed\"] = final_df[\"Special Rate of Duty\"].apply(parse_special_rate)"
   ]
  },
  {
   "cell_type": "code",
   "execution_count": 23,
   "id": "ce7f442b",
   "metadata": {},
   "outputs": [],
   "source": [
    "final_df[\"Is Special Free\"] = final_df[\"Special Rate Parsed\"].apply(lambda x: x[\"is_free\"])\n",
    "final_df[\"Special Countries\"] = final_df[\"Special Rate Parsed\"].apply(lambda x: \", \".join(x[\"countries\"]))"
   ]
  },
  {
   "cell_type": "code",
   "execution_count": 24,
   "id": "bfd3d537",
   "metadata": {},
   "outputs": [],
   "source": [
    "final_df['Quota Quantity'].unique() # All NaN, so we can drop this column\n",
    "final_df = final_df.drop(columns=['Quota Quantity'], axis=1)"
   ]
  },
  {
   "cell_type": "code",
   "execution_count": 25,
   "id": "f3e46c68",
   "metadata": {},
   "outputs": [],
   "source": [
    "final_df['Additional Duties'].unique()  # Check unique values\n",
    "## All NaN, so we can drop this column\n",
    "final_df = final_df.drop(columns=['Additional Duties'], axis=1)"
   ]
  },
  {
   "cell_type": "code",
   "execution_count": 26,
   "id": "4f9a57e6",
   "metadata": {},
   "outputs": [],
   "source": [
    "# Input values\n",
    "product_cost = 10000.0  # FOB cost\n",
    "freight = 500.0\n",
    "insurance = 100.0\n",
    "unit_weight = 1000  # in kg\n",
    "quantity = 10       # number of units\n",
    "\n",
    "# Compute CIF\n",
    "cif_value = product_cost + freight + insurance\n",
    "\n",
    "# Duty parser\n",
    "def parse_duty_advanced(duty_str, unit_weight=None, quantity=None):\n",
    "    \"\"\"\n",
    "    Parses and returns a duty rate as a decimal fraction (e.g., 0.05 for 5%),\n",
    "    or a calculated specific duty based on unit_weight or quantity.\n",
    "    \"\"\"\n",
    "    if pd.isna(duty_str) or duty_str.strip() == \"\":\n",
    "        return 0.0\n",
    "\n",
    "    duty_str = duty_str.strip().lower()\n",
    "\n",
    "    if \"free\" in duty_str:\n",
    "        return 0.0\n",
    "\n",
    "    # Percentage duty (e.g., '5%')\n",
    "    match = re.search(r\"([\\d.]+)\\s*%\", duty_str)\n",
    "    if match:\n",
    "        return float(match.group(1)) / 100\n",
    "\n",
    "    # Weight-based duty (e.g., '2.5¢/kg')\n",
    "    match = re.search(r\"([\\d.]+)\\s*¢/kg\", duty_str)\n",
    "    if match and unit_weight is not None:\n",
    "        cents_per_kg = float(match.group(1))\n",
    "        return (cents_per_kg * unit_weight) / (100 * cif_value)  # convert to % of CIF\n",
    "\n",
    "    # Unit-based duty (e.g., '$1.00/unit')\n",
    "    match = re.search(r\"\\$([\\d.]+)/unit\", duty_str)\n",
    "    if match and quantity is not None:\n",
    "        dollars_per_unit = float(match.group(1))\n",
    "        return (dollars_per_unit * quantity) / cif_value\n",
    "\n",
    "    return 0.0\n",
    "\n",
    "# Create working DataFrame\n",
    "duty_df = final_df[[\"HTS Number\", \"Description\", \"General Rate of Duty\", \n",
    "              \"Special Rate of Duty\", \"Column 2 Rate of Duty\"]].copy()\n",
    "\n",
    "# Apply CIF and input data\n",
    "duty_df[\"CIF Value\"] = cif_value\n",
    "duty_df[\"Product Cost\"] = product_cost\n",
    "duty_df[\"Freight\"] = freight\n",
    "duty_df[\"Insurance\"] = insurance\n",
    "\n",
    "# Apply duty calculations\n",
    "for col in [\"General Rate of Duty\", \"Special Rate of Duty\", \"Column 2 Rate of Duty\"]:\n",
    "    parsed_col = f\"{col} Parsed (%)\"\n",
    "    amount_col = f\"{col} Duty Amount\"\n",
    "    duty_df[parsed_col] = duty_df[col].apply(lambda x: parse_duty_advanced(x, unit_weight, quantity))\n",
    "    duty_df[amount_col] = duty_df[parsed_col] * cif_value\n",
    "\n",
    "# Filter results with any applicable duty\n",
    "duty_df_filtered = duty_df[\n",
    "    (duty_df[\"General Rate of Duty Duty Amount\"] > 0) |\n",
    "    (duty_df[\"Special Rate of Duty Duty Amount\"] > 0) |\n",
    "    (duty_df[\"Column 2 Rate of Duty Duty Amount\"] > 0)\n",
    "]\n"
   ]
  },
  {
   "cell_type": "code",
   "execution_count": 27,
   "id": "d670411e",
   "metadata": {},
   "outputs": [],
   "source": [
    "# Droping columns that are not needed\n",
    "final_duty_df = duty_df.drop(columns=[\n",
    "    \"General Rate of Duty\", \"Special Rate of Duty\", \"Column 2 Rate of Duty\"\n",
    "], axis=1)"
   ]
  },
  {
   "cell_type": "code",
   "execution_count": 28,
   "id": "b34f723a",
   "metadata": {},
   "outputs": [
    {
     "data": {
      "text/plain": [
       "(1718, 16)"
      ]
     },
     "execution_count": 28,
     "metadata": {},
     "output_type": "execute_result"
    }
   ],
   "source": [
    "# final_df.sample()\n",
    "# concat final_duty_df with final_df[['Indent', 'Unit of Quantity', 'Is Special Free', 'Special Countries']]\n",
    "temp_df = final_df[['Indent', 'Unit of Quantity', 'Is Special Free', 'Special Countries']].copy()\n",
    "final_duty_df = pd.concat([final_duty_df, temp_df], axis=1)\n",
    "final_duty_df.shape"
   ]
  },
  {
   "cell_type": "code",
   "execution_count": 29,
   "id": "997ae2fb",
   "metadata": {},
   "outputs": [
    {
     "data": {
      "text/html": [
       "<div>\n",
       "<style scoped>\n",
       "    .dataframe tbody tr th:only-of-type {\n",
       "        vertical-align: middle;\n",
       "    }\n",
       "\n",
       "    .dataframe tbody tr th {\n",
       "        vertical-align: top;\n",
       "    }\n",
       "\n",
       "    .dataframe thead th {\n",
       "        text-align: right;\n",
       "    }\n",
       "</style>\n",
       "<table border=\"1\" class=\"dataframe\">\n",
       "  <thead>\n",
       "    <tr style=\"text-align: right;\">\n",
       "      <th></th>\n",
       "      <th>HTS Number</th>\n",
       "      <th>Description</th>\n",
       "      <th>CIF Value</th>\n",
       "      <th>Product Cost</th>\n",
       "      <th>Freight</th>\n",
       "      <th>Insurance</th>\n",
       "      <th>General Rate of Duty Parsed (%)</th>\n",
       "      <th>General Rate of Duty Duty Amount</th>\n",
       "      <th>Special Rate of Duty Parsed (%)</th>\n",
       "      <th>Special Rate of Duty Duty Amount</th>\n",
       "      <th>Column 2 Rate of Duty Parsed (%)</th>\n",
       "      <th>Column 2 Rate of Duty Duty Amount</th>\n",
       "      <th>Indent</th>\n",
       "      <th>Unit of Quantity</th>\n",
       "      <th>Is Special Free</th>\n",
       "      <th>Special Countries</th>\n",
       "    </tr>\n",
       "  </thead>\n",
       "  <tbody>\n",
       "    <tr>\n",
       "      <th>346</th>\n",
       "      <td>0406.90.88.00</td>\n",
       "      <td>Other</td>\n",
       "      <td>10600.0</td>\n",
       "      <td>10000.0</td>\n",
       "      <td>500.0</td>\n",
       "      <td>100.0</td>\n",
       "      <td>0.0</td>\n",
       "      <td>0.0</td>\n",
       "      <td>0.0</td>\n",
       "      <td>0.0</td>\n",
       "      <td>0.0</td>\n",
       "      <td>0.0</td>\n",
       "      <td>5.0</td>\n",
       "      <td>[kg, kg cmsc]</td>\n",
       "      <td>True</td>\n",
       "      <td>BH, CL, JO, MA, OM, P, PE, SG</td>\n",
       "    </tr>\n",
       "  </tbody>\n",
       "</table>\n",
       "</div>"
      ],
      "text/plain": [
       "        HTS Number Description  CIF Value  Product Cost  Freight  Insurance  \\\n",
       "346  0406.90.88.00       Other    10600.0       10000.0    500.0      100.0   \n",
       "\n",
       "     General Rate of Duty Parsed (%)  General Rate of Duty Duty Amount  \\\n",
       "346                              0.0                               0.0   \n",
       "\n",
       "     Special Rate of Duty Parsed (%)  Special Rate of Duty Duty Amount  \\\n",
       "346                              0.0                               0.0   \n",
       "\n",
       "     Column 2 Rate of Duty Parsed (%)  Column 2 Rate of Duty Duty Amount  \\\n",
       "346                               0.0                                0.0   \n",
       "\n",
       "     Indent Unit of Quantity  Is Special Free              Special Countries  \n",
       "346     5.0    [kg, kg cmsc]             True  BH, CL, JO, MA, OM, P, PE, SG  "
      ]
     },
     "execution_count": 29,
     "metadata": {},
     "output_type": "execute_result"
    }
   ],
   "source": [
    "final_duty_df.sample()"
   ]
  },
  {
   "cell_type": "code",
   "execution_count": 30,
   "id": "761d1a81",
   "metadata": {},
   "outputs": [
    {
     "data": {
      "text/plain": [
       "1382"
      ]
     },
     "execution_count": 30,
     "metadata": {},
     "output_type": "execute_result"
    }
   ],
   "source": [
    "final_duty_df['HTS Number'].nunique()  # Check unique HTS Numbers"
   ]
  },
  {
   "cell_type": "code",
   "execution_count": 31,
   "id": "525d5594",
   "metadata": {},
   "outputs": [
    {
     "name": "stdout",
     "output_type": "stream",
     "text": [
      "Final HTS duty data saved successfully.\n"
     ]
    }
   ],
   "source": [
    "## Save the final DataFrame\n",
    "final_duty_df.to_csv(f\"{csv_paths}/final_hts_duty_data.csv\", index=False)\n",
    "print(\"Final HTS duty data saved successfully.\")"
   ]
  },
  {
   "cell_type": "markdown",
   "id": "24f84e05",
   "metadata": {},
   "source": [
    "### Storing csv into DuckDB"
   ]
  },
  {
   "cell_type": "code",
   "execution_count": 32,
   "id": "6c7af73d",
   "metadata": {},
   "outputs": [],
   "source": [
    "import duckdb"
   ]
  },
  {
   "cell_type": "code",
   "execution_count": 33,
   "id": "1442d856",
   "metadata": {},
   "outputs": [],
   "source": [
    "conn = duckdb.connect(\"../data/processed/hts_data.duckdb\")  # Creates or opens a physical DB file"
   ]
  },
  {
   "cell_type": "code",
   "execution_count": 34,
   "id": "4bd8c9c9",
   "metadata": {},
   "outputs": [
    {
     "data": {
      "text/plain": [
       "<duckdb.duckdb.DuckDBPyConnection at 0x14999f727f0>"
      ]
     },
     "execution_count": 34,
     "metadata": {},
     "output_type": "execute_result"
    }
   ],
   "source": [
    "conn.execute(\"DROP TABLE IF EXISTS hts_data\")  # Avoid duplicates"
   ]
  },
  {
   "cell_type": "code",
   "execution_count": 35,
   "id": "b63ccc62",
   "metadata": {},
   "outputs": [
    {
     "data": {
      "text/plain": [
       "<duckdb.duckdb.DuckDBPyConnection at 0x14999f727f0>"
      ]
     },
     "execution_count": 35,
     "metadata": {},
     "output_type": "execute_result"
    }
   ],
   "source": [
    "conn.register(\"df\", final_duty_df)"
   ]
  },
  {
   "cell_type": "code",
   "execution_count": 36,
   "id": "f60e572f",
   "metadata": {},
   "outputs": [
    {
     "data": {
      "text/plain": [
       "<duckdb.duckdb.DuckDBPyConnection at 0x14999f727f0>"
      ]
     },
     "execution_count": 36,
     "metadata": {},
     "output_type": "execute_result"
    }
   ],
   "source": [
    "conn.execute(\"CREATE TABLE hts_data AS SELECT * FROM df\")"
   ]
  },
  {
   "cell_type": "code",
   "execution_count": 37,
   "id": "56d38ae4",
   "metadata": {},
   "outputs": [
    {
     "name": "stdout",
     "output_type": "stream",
     "text": [
      "✅ CSVs successfully loaded into hts_data.duckdb\n"
     ]
    }
   ],
   "source": [
    "print(\"✅ CSVs successfully loaded into hts_data.duckdb\")"
   ]
  },
  {
   "cell_type": "code",
   "execution_count": 38,
   "id": "cd7ea668",
   "metadata": {},
   "outputs": [
    {
     "data": {
      "text/html": [
       "<div>\n",
       "<style scoped>\n",
       "    .dataframe tbody tr th:only-of-type {\n",
       "        vertical-align: middle;\n",
       "    }\n",
       "\n",
       "    .dataframe tbody tr th {\n",
       "        vertical-align: top;\n",
       "    }\n",
       "\n",
       "    .dataframe thead th {\n",
       "        text-align: right;\n",
       "    }\n",
       "</style>\n",
       "<table border=\"1\" class=\"dataframe\">\n",
       "  <thead>\n",
       "    <tr style=\"text-align: right;\">\n",
       "      <th></th>\n",
       "      <th>HTS Number</th>\n",
       "      <th>Description</th>\n",
       "      <th>CIF Value</th>\n",
       "      <th>Product Cost</th>\n",
       "      <th>Freight</th>\n",
       "      <th>Insurance</th>\n",
       "      <th>General Rate of Duty Parsed (%)</th>\n",
       "      <th>General Rate of Duty Duty Amount</th>\n",
       "      <th>Special Rate of Duty Parsed (%)</th>\n",
       "      <th>Special Rate of Duty Duty Amount</th>\n",
       "      <th>Column 2 Rate of Duty Parsed (%)</th>\n",
       "      <th>Column 2 Rate of Duty Duty Amount</th>\n",
       "      <th>Indent</th>\n",
       "      <th>Unit of Quantity</th>\n",
       "      <th>Is Special Free</th>\n",
       "      <th>Special Countries</th>\n",
       "    </tr>\n",
       "  </thead>\n",
       "  <tbody>\n",
       "    <tr>\n",
       "      <th>0</th>\n",
       "      <td>0406</td>\n",
       "      <td>Cheese and curd:</td>\n",
       "      <td>10600.0</td>\n",
       "      <td>10000.0</td>\n",
       "      <td>500.0</td>\n",
       "      <td>100.0</td>\n",
       "      <td>0.0</td>\n",
       "      <td>0.0</td>\n",
       "      <td>0.0</td>\n",
       "      <td>0.0</td>\n",
       "      <td>0.0</td>\n",
       "      <td>0.0</td>\n",
       "      <td>0.0</td>\n",
       "      <td>Not Given</td>\n",
       "      <td>False</td>\n",
       "      <td></td>\n",
       "    </tr>\n",
       "    <tr>\n",
       "      <th>1</th>\n",
       "      <td>0406.10</td>\n",
       "      <td>Fresh (unripened or uncured) cheese, including...</td>\n",
       "      <td>10600.0</td>\n",
       "      <td>10000.0</td>\n",
       "      <td>500.0</td>\n",
       "      <td>100.0</td>\n",
       "      <td>0.0</td>\n",
       "      <td>0.0</td>\n",
       "      <td>0.0</td>\n",
       "      <td>0.0</td>\n",
       "      <td>0.0</td>\n",
       "      <td>0.0</td>\n",
       "      <td>1.0</td>\n",
       "      <td>Not Given</td>\n",
       "      <td>False</td>\n",
       "      <td></td>\n",
       "    </tr>\n",
       "    <tr>\n",
       "      <th>2</th>\n",
       "      <td>0406.10.12.00</td>\n",
       "      <td>Blue-mold cheese and cheese and substitutes fo...</td>\n",
       "      <td>10600.0</td>\n",
       "      <td>10000.0</td>\n",
       "      <td>500.0</td>\n",
       "      <td>100.0</td>\n",
       "      <td>0.0</td>\n",
       "      <td>0.0</td>\n",
       "      <td>0.0</td>\n",
       "      <td>0.0</td>\n",
       "      <td>0.0</td>\n",
       "      <td>0.0</td>\n",
       "      <td>4.0</td>\n",
       "      <td>Not Given</td>\n",
       "      <td>False</td>\n",
       "      <td></td>\n",
       "    </tr>\n",
       "    <tr>\n",
       "      <th>3</th>\n",
       "      <td>0406.10.18.00</td>\n",
       "      <td>Cheddar cheese, and cheese and substitutes for...</td>\n",
       "      <td>10600.0</td>\n",
       "      <td>10000.0</td>\n",
       "      <td>500.0</td>\n",
       "      <td>100.0</td>\n",
       "      <td>0.0</td>\n",
       "      <td>0.0</td>\n",
       "      <td>0.0</td>\n",
       "      <td>0.0</td>\n",
       "      <td>0.0</td>\n",
       "      <td>0.0</td>\n",
       "      <td>4.0</td>\n",
       "      <td>Not Given</td>\n",
       "      <td>False</td>\n",
       "      <td></td>\n",
       "    </tr>\n",
       "    <tr>\n",
       "      <th>4</th>\n",
       "      <td>0406.10.28.00</td>\n",
       "      <td>American-type cheese, including Colby, washed ...</td>\n",
       "      <td>10600.0</td>\n",
       "      <td>10000.0</td>\n",
       "      <td>500.0</td>\n",
       "      <td>100.0</td>\n",
       "      <td>0.0</td>\n",
       "      <td>0.0</td>\n",
       "      <td>0.0</td>\n",
       "      <td>0.0</td>\n",
       "      <td>0.0</td>\n",
       "      <td>0.0</td>\n",
       "      <td>4.0</td>\n",
       "      <td>Not Given</td>\n",
       "      <td>False</td>\n",
       "      <td></td>\n",
       "    </tr>\n",
       "  </tbody>\n",
       "</table>\n",
       "</div>"
      ],
      "text/plain": [
       "      HTS Number                                        Description  \\\n",
       "0           0406                                   Cheese and curd:   \n",
       "1        0406.10  Fresh (unripened or uncured) cheese, including...   \n",
       "2  0406.10.12.00  Blue-mold cheese and cheese and substitutes fo...   \n",
       "3  0406.10.18.00  Cheddar cheese, and cheese and substitutes for...   \n",
       "4  0406.10.28.00  American-type cheese, including Colby, washed ...   \n",
       "\n",
       "   CIF Value  Product Cost  Freight  Insurance  \\\n",
       "0    10600.0       10000.0    500.0      100.0   \n",
       "1    10600.0       10000.0    500.0      100.0   \n",
       "2    10600.0       10000.0    500.0      100.0   \n",
       "3    10600.0       10000.0    500.0      100.0   \n",
       "4    10600.0       10000.0    500.0      100.0   \n",
       "\n",
       "   General Rate of Duty Parsed (%)  General Rate of Duty Duty Amount  \\\n",
       "0                              0.0                               0.0   \n",
       "1                              0.0                               0.0   \n",
       "2                              0.0                               0.0   \n",
       "3                              0.0                               0.0   \n",
       "4                              0.0                               0.0   \n",
       "\n",
       "   Special Rate of Duty Parsed (%)  Special Rate of Duty Duty Amount  \\\n",
       "0                              0.0                               0.0   \n",
       "1                              0.0                               0.0   \n",
       "2                              0.0                               0.0   \n",
       "3                              0.0                               0.0   \n",
       "4                              0.0                               0.0   \n",
       "\n",
       "   Column 2 Rate of Duty Parsed (%)  Column 2 Rate of Duty Duty Amount  \\\n",
       "0                               0.0                                0.0   \n",
       "1                               0.0                                0.0   \n",
       "2                               0.0                                0.0   \n",
       "3                               0.0                                0.0   \n",
       "4                               0.0                                0.0   \n",
       "\n",
       "   Indent Unit of Quantity  Is Special Free Special Countries  \n",
       "0     0.0        Not Given            False                    \n",
       "1     1.0        Not Given            False                    \n",
       "2     4.0        Not Given            False                    \n",
       "3     4.0        Not Given            False                    \n",
       "4     4.0        Not Given            False                    "
      ]
     },
     "execution_count": 38,
     "metadata": {},
     "output_type": "execute_result"
    }
   ],
   "source": [
    "results = conn.execute(\"\"\"\n",
    "    SELECT * FROM hts_data WHERE Description ILIKE '%cheese%'\n",
    "\"\"\").df()\n",
    "results.head()\n"
   ]
  },
  {
   "cell_type": "code",
   "execution_count": 39,
   "id": "d82377e4",
   "metadata": {},
   "outputs": [
    {
     "data": {
      "text/plain": [
       "(89, 16)"
      ]
     },
     "execution_count": 39,
     "metadata": {},
     "output_type": "execute_result"
    }
   ],
   "source": [
    "results.shape"
   ]
  },
  {
   "cell_type": "code",
   "execution_count": 41,
   "id": "5e3334db",
   "metadata": {},
   "outputs": [
    {
     "data": {
      "text/html": [
       "<div>\n",
       "<style scoped>\n",
       "    .dataframe tbody tr th:only-of-type {\n",
       "        vertical-align: middle;\n",
       "    }\n",
       "\n",
       "    .dataframe tbody tr th {\n",
       "        vertical-align: top;\n",
       "    }\n",
       "\n",
       "    .dataframe thead th {\n",
       "        text-align: right;\n",
       "    }\n",
       "</style>\n",
       "<table border=\"1\" class=\"dataframe\">\n",
       "  <thead>\n",
       "    <tr style=\"text-align: right;\">\n",
       "      <th></th>\n",
       "      <th>HTS Number</th>\n",
       "      <th>Description</th>\n",
       "      <th>CIF Value</th>\n",
       "      <th>Product Cost</th>\n",
       "      <th>Freight</th>\n",
       "      <th>Insurance</th>\n",
       "      <th>General Rate of Duty Parsed (%)</th>\n",
       "      <th>General Rate of Duty Duty Amount</th>\n",
       "      <th>Special Rate of Duty Parsed (%)</th>\n",
       "      <th>Special Rate of Duty Duty Amount</th>\n",
       "      <th>Column 2 Rate of Duty Parsed (%)</th>\n",
       "      <th>Column 2 Rate of Duty Duty Amount</th>\n",
       "      <th>Indent</th>\n",
       "      <th>Unit of Quantity</th>\n",
       "      <th>Is Special Free</th>\n",
       "      <th>Special Countries</th>\n",
       "    </tr>\n",
       "  </thead>\n",
       "  <tbody>\n",
       "    <tr>\n",
       "      <th>0</th>\n",
       "      <td>0406.90.88.00</td>\n",
       "      <td>Other</td>\n",
       "      <td>10600.0</td>\n",
       "      <td>10000.0</td>\n",
       "      <td>500.0</td>\n",
       "      <td>100.0</td>\n",
       "      <td>0.0</td>\n",
       "      <td>0.0</td>\n",
       "      <td>0.0</td>\n",
       "      <td>0.0</td>\n",
       "      <td>0.0</td>\n",
       "      <td>0.0</td>\n",
       "      <td>5.0</td>\n",
       "      <td>['kg', 'kg cmsc']</td>\n",
       "      <td>True</td>\n",
       "      <td>BH, CL, JO, MA, OM, P, PE, SG</td>\n",
       "    </tr>\n",
       "    <tr>\n",
       "      <th>1</th>\n",
       "      <td>0406.90.88.00</td>\n",
       "      <td>Containing, or processed from, Swiss, Emmental...</td>\n",
       "      <td>10600.0</td>\n",
       "      <td>10000.0</td>\n",
       "      <td>500.0</td>\n",
       "      <td>100.0</td>\n",
       "      <td>0.0</td>\n",
       "      <td>0.0</td>\n",
       "      <td>0.0</td>\n",
       "      <td>0.0</td>\n",
       "      <td>0.0</td>\n",
       "      <td>0.0</td>\n",
       "      <td>4.0</td>\n",
       "      <td>Not Given</td>\n",
       "      <td>False</td>\n",
       "      <td></td>\n",
       "    </tr>\n",
       "    <tr>\n",
       "      <th>2</th>\n",
       "      <td>0406.90.88.00</td>\n",
       "      <td>Containing, or processed from, Swiss, Emmental...</td>\n",
       "      <td>10600.0</td>\n",
       "      <td>10000.0</td>\n",
       "      <td>500.0</td>\n",
       "      <td>100.0</td>\n",
       "      <td>0.0</td>\n",
       "      <td>0.0</td>\n",
       "      <td>0.0</td>\n",
       "      <td>0.0</td>\n",
       "      <td>0.0</td>\n",
       "      <td>0.0</td>\n",
       "      <td>NaN</td>\n",
       "      <td>Not Given</td>\n",
       "      <td>False</td>\n",
       "      <td></td>\n",
       "    </tr>\n",
       "  </tbody>\n",
       "</table>\n",
       "</div>"
      ],
      "text/plain": [
       "      HTS Number                                        Description  \\\n",
       "0  0406.90.88.00                                              Other   \n",
       "1  0406.90.88.00  Containing, or processed from, Swiss, Emmental...   \n",
       "2  0406.90.88.00  Containing, or processed from, Swiss, Emmental...   \n",
       "\n",
       "   CIF Value  Product Cost  Freight  Insurance  \\\n",
       "0    10600.0       10000.0    500.0      100.0   \n",
       "1    10600.0       10000.0    500.0      100.0   \n",
       "2    10600.0       10000.0    500.0      100.0   \n",
       "\n",
       "   General Rate of Duty Parsed (%)  General Rate of Duty Duty Amount  \\\n",
       "0                              0.0                               0.0   \n",
       "1                              0.0                               0.0   \n",
       "2                              0.0                               0.0   \n",
       "\n",
       "   Special Rate of Duty Parsed (%)  Special Rate of Duty Duty Amount  \\\n",
       "0                              0.0                               0.0   \n",
       "1                              0.0                               0.0   \n",
       "2                              0.0                               0.0   \n",
       "\n",
       "   Column 2 Rate of Duty Parsed (%)  Column 2 Rate of Duty Duty Amount  \\\n",
       "0                               0.0                                0.0   \n",
       "1                               0.0                                0.0   \n",
       "2                               0.0                                0.0   \n",
       "\n",
       "   Indent   Unit of Quantity  Is Special Free              Special Countries  \n",
       "0     5.0  ['kg', 'kg cmsc']             True  BH, CL, JO, MA, OM, P, PE, SG  \n",
       "1     4.0          Not Given            False                                 \n",
       "2     NaN          Not Given            False                                 "
      ]
     },
     "execution_count": 41,
     "metadata": {},
     "output_type": "execute_result"
    }
   ],
   "source": [
    "query = \"\"\"\n",
    "SELECT \n",
    "    * \n",
    "FROM \n",
    "    hts_data\n",
    "WHERE \n",
    "    \"HTS Number\" = '0406.90.88.00';\n",
    "\n",
    "\"\"\"\n",
    "results = conn.execute(query).df()\n",
    "results.head()"
   ]
  },
  {
   "cell_type": "code",
   "execution_count": 42,
   "id": "4ea03b4f",
   "metadata": {},
   "outputs": [
    {
     "data": {
      "text/plain": [
       "Index(['HTS Number', 'Description', 'CIF Value', 'Product Cost', 'Freight',\n",
       "       'Insurance', 'General Rate of Duty Parsed (%)',\n",
       "       'General Rate of Duty Duty Amount', 'Special Rate of Duty Parsed (%)',\n",
       "       'Special Rate of Duty Duty Amount', 'Column 2 Rate of Duty Parsed (%)',\n",
       "       'Column 2 Rate of Duty Duty Amount', 'Indent', 'Unit of Quantity',\n",
       "       'Is Special Free', 'Special Countries'],\n",
       "      dtype='object')"
      ]
     },
     "execution_count": 42,
     "metadata": {},
     "output_type": "execute_result"
    }
   ],
   "source": [
    "results = conn.execute(\"\"\"\n",
    "                       SELECT * from hts_data;\"\"\").df()\n",
    "results.columns"
   ]
  },
  {
   "cell_type": "code",
   "execution_count": null,
   "id": "fd359877",
   "metadata": {},
   "outputs": [],
   "source": [
    "def run_duckdb_query(query):\n",
    "    \"\"\"\n",
    "    Executes the given SQL query using the existing DuckDB connection and returns the result as a DataFrame.\n",
    "    \"\"\"\n",
    "    return conn.execute(query).df()"
   ]
  }
 ],
 "metadata": {
  "kernelspec": {
   "display_name": ".venv",
   "language": "python",
   "name": "python3"
  },
  "language_info": {
   "codemirror_mode": {
    "name": "ipython",
    "version": 3
   },
   "file_extension": ".py",
   "mimetype": "text/x-python",
   "name": "python",
   "nbconvert_exporter": "python",
   "pygments_lexer": "ipython3",
   "version": "3.12.7"
  }
 },
 "nbformat": 4,
 "nbformat_minor": 5
}
