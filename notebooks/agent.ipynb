{
 "cells": [
  {
   "cell_type": "code",
   "execution_count": null,
   "id": "2ca35cb9",
   "metadata": {},
   "outputs": [],
   "source": [
    "from langchain.tools import BaseTool\n",
    "from typing import Any\n",
    "\n",
    "class ToolA(BaseTool):\n",
    "    name: str = \"tool_a\"\n",
    "    description: str = \"Returns the square of an integer\"\n",
    "\n",
    "    def _run(self, n: int) -> int:\n",
    "        return n * n\n",
    "\n",
    "    async def _arun(self, n: int) -> int:\n",
    "        return self._run(n)\n",
    "\n",
    "class ToolB(BaseTool):\n",
    "    name:str = \"tool_b\"\n",
    "    description:str = \"Converts a string to uppercase\"\n",
    "\n",
    "    def _run(self, text: str) -> str:\n",
    "        return text.upper()\n",
    "\n",
    "    async def _arun(self, text: str) -> str:\n",
    "        return self._run(text)\n"
   ]
  },
  {
   "cell_type": "code",
   "execution_count": null,
   "id": "33b99ec1",
   "metadata": {},
   "outputs": [
    {
     "name": "stderr",
     "output_type": "stream",
     "text": [
      "c:\\Users\\12345\\Downloads\\TariffBot\\.venv\\Lib\\site-packages\\tqdm\\auto.py:21: TqdmWarning: IProgress not found. Please update jupyter and ipywidgets. See https://ipywidgets.readthedocs.io/en/stable/user_install.html\n",
      "  from .autonotebook import tqdm as notebook_tqdm\n"
     ]
    }
   ],
   "source": [
    "import os\n",
    "from langchain_google_genai import ChatGoogleGenerativeAI\n",
    "\n",
    "os.environ[\"GOOGLE_API_KEY\"] = 'API KEY'\n",
    "llm = ChatGoogleGenerativeAI(\n",
    "    model=\"gemini-2.0-flash-lite\",\n",
    "    temperature=0,\n",
    "    max_tokens=512,\n",
    ")\n"
   ]
  },
  {
   "cell_type": "code",
   "execution_count": 19,
   "id": "f2bc5161",
   "metadata": {},
   "outputs": [],
   "source": [
    "from IPython.display import Markdown"
   ]
  },
  {
   "cell_type": "code",
   "execution_count": 25,
   "id": "7fdda802",
   "metadata": {},
   "outputs": [
    {
     "name": "stdout",
     "output_type": "stream",
     "text": [
      "\n",
      "\n",
      "\u001b[1m> Entering new AgentExecutor chain...\u001b[0m\n",
      "\u001b[32;1m\u001b[1;3mThought: I need to calculate the area of a square. The area of a square is side * side. The side length is 5 meters. I can use tool_a to calculate the square of 5.\n",
      "Action:\n",
      "```\n",
      "{\n",
      "  \"action\": \"tool_a\",\n",
      "  \"action_input\": {\n",
      "    \"n\": 5\n",
      "  }\n",
      "}\n",
      "```\u001b[0m\n",
      "Observation: \u001b[36;1m\u001b[1;3m25\u001b[0m\n",
      "Thought:\u001b[32;1m\u001b[1;3mThe area of the garden is 25 square meters.\n",
      "Action:\n",
      "```\n",
      "{\n",
      "  \"action\": \"Final Answer\",\n",
      "  \"action_input\": \"The area of the garden is 25 square meters.\"\n",
      "}\n",
      "```\u001b[0m\n",
      "\n",
      "\u001b[1m> Finished chain.\u001b[0m\n",
      "The area of the garden is 25 square meters.\n"
     ]
    }
   ],
   "source": [
    "from langchain.agents import initialize_agent, AgentType\n",
    "\n",
    "tools = [ToolA(), ToolB()]\n",
    "\n",
    "agent = initialize_agent(\n",
    "    tools=tools,\n",
    "    llm=llm,\n",
    "    agent=AgentType.STRUCTURED_CHAT_ZERO_SHOT_REACT_DESCRIPTION,\n",
    "    verbose=True,\n",
    ")\n",
    "\n",
    "# Ask a question that may need multiple tool calls\n",
    "response = agent.run(\"A square garden has a side length of 5 meters. What is the area of the garden?\")\n",
    "print(response)\n"
   ]
  },
  {
   "cell_type": "code",
   "execution_count": 24,
   "id": "c2a6b65b",
   "metadata": {},
   "outputs": [
    {
     "data": {
      "text/markdown": [
       "Ram has 8 apples left."
      ],
      "text/plain": [
       "<IPython.core.display.Markdown object>"
      ]
     },
     "execution_count": 24,
     "metadata": {},
     "output_type": "execute_result"
    }
   ],
   "source": [
    "Markdown(response)"
   ]
  },
  {
   "cell_type": "code",
   "execution_count": null,
   "id": "9019db78",
   "metadata": {},
   "outputs": [],
   "source": []
  }
 ],
 "metadata": {
  "kernelspec": {
   "display_name": ".venv",
   "language": "python",
   "name": "python3"
  },
  "language_info": {
   "codemirror_mode": {
    "name": "ipython",
    "version": 3
   },
   "file_extension": ".py",
   "mimetype": "text/x-python",
   "name": "python",
   "nbconvert_exporter": "python",
   "pygments_lexer": "ipython3",
   "version": "3.12.7"
  }
 },
 "nbformat": 4,
 "nbformat_minor": 5
}
